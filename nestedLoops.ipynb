{
  "nbformat": 4,
  "nbformat_minor": 0,
  "metadata": {
    "colab": {
      "name": "nestedLoops.ipynb",
      "provenance": [],
      "authorship_tag": "ABX9TyPS1RVBgUCYcT3L0opd10i4",
      "include_colab_link": true
    },
    "kernelspec": {
      "name": "python3",
      "display_name": "Python 3"
    },
    "language_info": {
      "name": "python"
    }
  },
  "cells": [
    {
      "cell_type": "markdown",
      "metadata": {
        "id": "view-in-github",
        "colab_type": "text"
      },
      "source": [
        "<a href=\"https://colab.research.google.com/github/qrNasr/LearnPython/blob/main/nestedLoops.ipynb\" target=\"_parent\"><img src=\"https://colab.research.google.com/assets/colab-badge.svg\" alt=\"Open In Colab\"/></a>"
      ]
    },
    {
      "cell_type": "markdown",
      "source": [
        "Python Nested for Loop\n",
        "\n",
        "In Python, the for loop is used to iterate over a sequence such as a list, string, tuple, other iterable objects such as range.\n",
        "\n",
        "Syntax of using a nested for loop in Python\n",
        "\n",
        "\n"
      ],
      "metadata": {
        "id": "2xQ6Ewg80XAT"
      }
    },
    {
      "cell_type": "code",
      "source": [
        "# outer for loop\n",
        "for element in sequence:\n",
        "   # inner for loop\n",
        "   for element in sequence:\n",
        "       body of inner for loop\n",
        "   body of outer for loop"
      ],
      "metadata": {
        "id": "_ncjVyhq0d2s"
      },
      "execution_count": null,
      "outputs": []
    },
    {
      "cell_type": "markdown",
      "source": [
        "# Multiplication table using nested loops"
      ],
      "metadata": {
        "id": "V8UTtGnb0t8O"
      }
    },
    {
      "cell_type": "code",
      "source": [
        "# outer loop\n",
        "for i in range(1, 11):\n",
        "    # nested loop\n",
        "    # to iterate from 1 to 10\n",
        "    for j in range(1, 5):\n",
        "        # print multiplication\n",
        "        print(i * j, end=' ')\n",
        "    print()"
      ],
      "metadata": {
        "id": "PqvmicRi0zEO"
      },
      "execution_count": null,
      "outputs": []
    },
    {
      "cell_type": "markdown",
      "source": [
        "# Nasr Code"
      ],
      "metadata": {
        "id": "3zeZTgFl46PJ"
      }
    },
    {
      "cell_type": "code",
      "source": [
        "a=['a','b','c','c']\n",
        "b=[1,2,3,4]\n",
        "\n",
        "for i in a:\n",
        "  for k in b:\n",
        "    print(i,k)"
      ],
      "metadata": {
        "id": "9JTRm4F-5A7Q"
      },
      "execution_count": null,
      "outputs": []
    },
    {
      "cell_type": "code",
      "source": [
        "a=['a','b','c','c']\n",
        "b=[1,2,3,4]\n",
        "\n",
        "for i in a:\n",
        "  for k in b:\n",
        "    print(i*k)"
      ],
      "metadata": {
        "id": "5Te6su9j4-LF"
      },
      "execution_count": null,
      "outputs": []
    },
    {
      "cell_type": "code",
      "source": [
        "a=[10,20,30,40]\n",
        "b=[1,2,3,4]\n",
        "\n",
        "for i in a:\n",
        "  for k in b:\n",
        "    print(i-k)"
      ],
      "metadata": {
        "id": "i5Z95AHb5J6o"
      },
      "execution_count": null,
      "outputs": []
    },
    {
      "cell_type": "code",
      "source": [
        "import string\n",
        "from typing import List, Any\n",
        "lcase=list(string.ascii_lowercase)\n",
        "kcase=list(string.ascii_uppercase)\n",
        "\n",
        "print(lcase)\n",
        "print(kcase)\n",
        "for l in lcase:\n",
        "   for k in kcase:\n",
        "      print(l,k)\n"
      ],
      "metadata": {
        "id": "bc1E561O6x7K"
      },
      "execution_count": null,
      "outputs": []
    }
  ]
}